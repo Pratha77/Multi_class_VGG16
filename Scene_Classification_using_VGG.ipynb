{
  "cells": [
    {
      "cell_type": "markdown",
      "metadata": {
        "id": "39hWYiT1XJf2"
      },
      "source": [
        "# Scene Classification using VGG"
      ]
    },
    {
      "cell_type": "markdown",
      "metadata": {
        "id": "EF1uvEBQgsV_"
      },
      "source": [
        "Steps:\n",
        "1. Importing (or installing) Tensorflow, Keras and other packages on your system\n",
        "2. Defining your tensorflow CNN model architecture\n",
        "3. Loading your data from disk\n",
        "4. Creating your training and testing splits\n",
        "5. Data Preprocessing (Augumentation)\n",
        "6. Compiling your tensorflow CNN model\n",
        "7. Training your model on your training data\n",
        "8. Saving The train model\n",
        "9. Generate Plots for accuracy and validation loss\n",
        "10. Making predictions using your trained tensorflow model"
      ]
    },
    {
      "cell_type": "markdown",
      "metadata": {
        "id": "6T3wnnY6Xd3m"
      },
      "source": [
        "##### Select GPU Runtime, Install Tensorflow 2.0.0 and restart the runtime"
      ]
    },
    {
      "cell_type": "code",
      "execution_count": null,
      "metadata": {
        "id": "N6sQAQD2XXiR"
      },
      "outputs": [],
      "source": [
        "# !pip install tensorflow-gpu==2.0.0"
      ]
    },
    {
      "cell_type": "markdown",
      "metadata": {
        "id": "yUH2DqfYYs6F"
      },
      "source": [
        "#### connect Drive folder to colab and set working dir"
      ]
    },
    {
      "cell_type": "code",
      "execution_count": 1,
      "metadata": {
        "colab": {
          "base_uri": "https://localhost:8080/"
        },
        "id": "pe55k7IHYeue",
        "outputId": "8219cd22-ec9f-4360-b074-4fd896a9e567"
      },
      "outputs": [
        {
          "output_type": "stream",
          "name": "stdout",
          "text": [
            "Mounted at /content/drive\n"
          ]
        }
      ],
      "source": [
        "from google.colab import drive\n",
        "drive.mount('/content/drive')"
      ]
    },
    {
      "cell_type": "code",
      "execution_count": 2,
      "metadata": {
        "id": "HkBqTQIiYvb4"
      },
      "outputs": [],
      "source": [
        "import os\n",
        "os.chdir(\"/content/drive/MyDrive/Deep Learning Projects/4. Transfer Learning using VGG16\")"
      ]
    },
    {
      "cell_type": "code",
      "execution_count": 3,
      "metadata": {
        "colab": {
          "base_uri": "https://localhost:8080/"
        },
        "id": "w6LSCmiIZDW7",
        "outputId": "54adb635-5abf-4f8c-95d3-cefcb5dc2c5c"
      },
      "outputs": [
        {
          "output_type": "stream",
          "name": "stdout",
          "text": [
            "Scene\\ Classification\\ using\\ VGG.ipynb  vgg_dataset\t\t   vgg_model_50epochs.model\n",
            "test_examples\t\t\t\t vgg_dataset.rar\n",
            "test_examples.rar\t\t\t vgg_model_10epochs.model\n"
          ]
        }
      ],
      "source": [
        "!dir"
      ]
    },
    {
      "cell_type": "markdown",
      "metadata": {
        "id": "MX3zAiaLXJf8"
      },
      "source": [
        "### Step 1: Importing all the packages"
      ]
    },
    {
      "cell_type": "code",
      "execution_count": 4,
      "metadata": {
        "colab": {
          "base_uri": "https://localhost:8080/"
        },
        "id": "WTLmro0IXJf-",
        "outputId": "c5517361-b089-49ec-b2ef-57de6d72dc74"
      },
      "outputs": [
        {
          "output_type": "stream",
          "name": "stdout",
          "text": [
            "Tensorlfow Version:  2.14.0\n"
          ]
        }
      ],
      "source": [
        "# import the necessary packages  https://justpaste.it/7xo6s\n",
        "from tensorflow.keras.models import Sequential\n",
        "from tensorflow.keras import backend as K\n",
        "from tensorflow.keras.preprocessing.image import ImageDataGenerator\n",
        "from tensorflow.keras.optimizers import Adam\n",
        "from tensorflow.keras.preprocessing.image import img_to_array\n",
        "from tensorflow.keras.utils import to_categorical\n",
        "from tensorflow.keras.applications import VGG16, VGG19\n",
        "from tensorflow.keras.layers import Dropout\n",
        "from tensorflow.keras.layers import Flatten\n",
        "from tensorflow.keras.layers import Dense\n",
        "from tensorflow.keras.layers import Input\n",
        "from tensorflow.keras.models import Model\n",
        "from tensorflow.keras.optimizers import SGD\n",
        "\n",
        "from sklearn.metrics import classification_report\n",
        "from sklearn.model_selection import train_test_split\n",
        "\n",
        "from imutils import paths\n",
        "import matplotlib.pyplot as plt\n",
        "import numpy as np\n",
        "import argparse\n",
        "import random\n",
        "import cv2\n",
        "import os\n",
        "\n",
        "import warnings\n",
        "from tqdm import tqdm_notebook as tqdm\n",
        "import itertools\n",
        "import tensorflow as tf\n",
        "\n",
        "print(\"Tensorlfow Version: \", tf.__version__)\n",
        "warnings.filterwarnings(\"ignore\")\n",
        "SEED = 42   # set random seed"
      ]
    },
    {
      "cell_type": "code",
      "execution_count": null,
      "metadata": {
        "id": "kBjgk3esaedK"
      },
      "outputs": [],
      "source": [
        "# !pip install patool\n",
        "# import patoolib\n",
        "# patoolib.extract_archive(\"vgg_dataset.rar\")\n",
        "# patoolib.extract_archive(\"test_examples.rar\")"
      ]
    },
    {
      "cell_type": "code",
      "execution_count": null,
      "metadata": {
        "id": "gDPlOCCyXJgA"
      },
      "outputs": [],
      "source": []
    },
    {
      "cell_type": "code",
      "execution_count": 5,
      "metadata": {
        "id": "yeEf_tNOXJgB"
      },
      "outputs": [],
      "source": [
        "CLASSES = [\"buildings\", \"forest\", \"sea\"]\n",
        "\n",
        "DATASET = \"vgg_dataset\"  # this folde must contain three subfolder with images\n",
        "MODEL = \"vgg_16_scene.model\" # name to store the model on disk\n",
        "PLOT = \"vgg_plot.png\" # plot name\n",
        "\n",
        "# set the batch size when fine-tuning\n",
        "BATCH_SIZE = 32\n",
        "\n",
        "EPOCHS = 10\n",
        "INIT_LR = 1e-3\n",
        "\n",
        "# LE_PATH = os.path.sep.join([\"output\", \"le.cpickle\"])\n",
        "# BASE_CSV_PATH = \"output\"\n",
        "\n",
        "# # set the path to the serialized model after training\n",
        "# MODEL_PATH = os.path.sep.join([\"output\", \"scene.model\"])\n",
        "\n",
        "# # define the path to the output training history plots\n",
        "# UNFROZEN_PLOT_PATH = os.path.sep.join([\"output\", \"unfrozen.png\"])\n",
        "# WARMUP_PLOT_PATH = os.path.sep.join([\"output\", \"warmup.png\"])"
      ]
    },
    {
      "cell_type": "code",
      "source": [],
      "metadata": {
        "id": "ceOOH608k-f1"
      },
      "execution_count": null,
      "outputs": []
    },
    {
      "cell_type": "code",
      "execution_count": 7,
      "metadata": {
        "id": "BwWm6T_NXJgC"
      },
      "outputs": [],
      "source": [
        "trainPath = r\"vgg_dataset/train\"\n",
        "testPath =  r\"vgg_dataset/test\""
      ]
    },
    {
      "cell_type": "code",
      "execution_count": 8,
      "metadata": {
        "colab": {
          "base_uri": "https://localhost:8080/"
        },
        "id": "TlN9hXZpXJgD",
        "outputId": "5374fe96-147a-49db-a1a9-16e1f12a4c42"
      },
      "outputs": [
        {
          "output_type": "stream",
          "name": "stdout",
          "text": [
            "1217\n",
            "559\n"
          ]
        }
      ],
      "source": [
        "# determine the total number of image paths in training, validation,\n",
        "# and testing directories\n",
        "totalTrain = len(list(paths.list_images(trainPath)))\n",
        "totalTest = len(list(paths.list_images(testPath)))\n",
        "print(totalTrain)\n",
        "print(totalTest)"
      ]
    },
    {
      "cell_type": "code",
      "execution_count": 9,
      "metadata": {
        "id": "obovw6ieXJgF"
      },
      "outputs": [],
      "source": [
        "# initialize the training data augmentation object\n",
        "trainAug = ImageDataGenerator(\n",
        "    rotation_range=30,\n",
        "    zoom_range=0.15,\n",
        "    width_shift_range=0.2,\n",
        "    height_shift_range=0.2,\n",
        "    shear_range=0.15,\n",
        "    horizontal_flip=True,\n",
        "    fill_mode=\"nearest\")\n",
        "\n",
        "# initialize the validation/testing data augmentation object (which\n",
        "# we'll be adding mean subtraction to)\n",
        "valAug = ImageDataGenerator()\n",
        "\n",
        "# define the ImageNet mean subtraction (in RGB order) and set the\n",
        "# the mean subtraction value for each of the data augmentation\n",
        "# objects\n",
        "mean = np.array([123.68, 116.779, 103.939], dtype=\"float32\")\n",
        "trainAug.mean = mean\n",
        "valAug.mean = mean"
      ]
    },
    {
      "cell_type": "code",
      "execution_count": null,
      "metadata": {
        "id": "f3n2-GLIfL9L"
      },
      "outputs": [],
      "source": []
    },
    {
      "cell_type": "code",
      "execution_count": 10,
      "metadata": {
        "colab": {
          "base_uri": "https://localhost:8080/"
        },
        "id": "q1TqLSOAXJgG",
        "outputId": "db939888-e343-495f-c4fa-64761572f2c0"
      },
      "outputs": [
        {
          "output_type": "stream",
          "name": "stdout",
          "text": [
            "Found 1217 images belonging to 3 classes.\n",
            "Found 559 images belonging to 3 classes.\n"
          ]
        }
      ],
      "source": [
        "# initialize the training generator\n",
        "trainGen = trainAug.flow_from_directory(\n",
        "    trainPath,\n",
        "    class_mode=\"categorical\",\n",
        "    target_size=(224, 224),\n",
        "    color_mode=\"rgb\",\n",
        "    shuffle=True,\n",
        "    batch_size=BATCH_SIZE)\n",
        "\n",
        "\n",
        "# initialize the testing generator\n",
        "testGen = valAug.flow_from_directory(\n",
        "    testPath,\n",
        "    class_mode=\"categorical\",\n",
        "    target_size=(224, 224),\n",
        "    color_mode=\"rgb\",\n",
        "    shuffle=False,\n",
        "    batch_size=BATCH_SIZE)"
      ]
    },
    {
      "cell_type": "code",
      "execution_count": 18,
      "metadata": {
        "id": "mEwFqAorbA8P"
      },
      "outputs": [],
      "source": [
        "baseModel = VGG16(weights=\"imagenet\", include_top=True,\n",
        "                  input_tensor=Input(shape=(224, 224, 3)))"
      ]
    },
    {
      "cell_type": "code",
      "execution_count": null,
      "metadata": {
        "id": "o6UsGEIbbJlI"
      },
      "outputs": [],
      "source": [
        "baseModel.summary()"
      ]
    },
    {
      "cell_type": "code",
      "execution_count": null,
      "metadata": {
        "id": "t8IORLy2bs3f"
      },
      "outputs": [],
      "source": [
        "baseModel = VGG16(weights=\"imagenet\", include_top=False,\n",
        "                  input_tensor=Input(shape=(224, 224, 3)))"
      ]
    },
    {
      "cell_type": "code",
      "execution_count": null,
      "metadata": {
        "id": "uuUns2S0bwAO"
      },
      "outputs": [],
      "source": [
        "baseModel.summary()"
      ]
    },
    {
      "cell_type": "code",
      "execution_count": 27,
      "metadata": {
        "id": "JsH3_Co8XJgH"
      },
      "outputs": [],
      "source": [
        "# load the VGG16 network, ensuring the head FC layer sets are left\n",
        "# off\n",
        "baseModel = VGG16(weights=\"imagenet\", include_top=False,\n",
        "                  input_tensor=Input(shape=(224, 224, 3)))\n",
        "# construct the head of the model that will be placed on top of the\n",
        "# the base model\n",
        "headModel = baseModel.output\n",
        "headModel = Flatten(name=\"flatten\")(headModel)\n",
        "headModel = Dense(4092, activation=\"relu\")(headModel)\n",
        "headModel = Dense(4092, activation=\"relu\")(headModel)\n",
        "# headModel = Dropout(0.5)(headModel)\n",
        "headModel = Dense(len(CLASSES), activation=\"softmax\")(headModel)\n",
        "\n",
        "# place the head FC model on top of the base model (this will become\n",
        "# the actual model we will train)\n",
        "vgg_model = Model(inputs=baseModel.input, outputs=headModel)"
      ]
    },
    {
      "cell_type": "code",
      "execution_count": null,
      "metadata": {
        "id": "22UXwifudPFB"
      },
      "outputs": [],
      "source": [
        "vgg_model.summary()"
      ]
    },
    {
      "cell_type": "code",
      "source": [
        "vgg_model.summary()"
      ],
      "metadata": {
        "id": "5pusSSfhXZkx"
      },
      "execution_count": null,
      "outputs": []
    },
    {
      "cell_type": "code",
      "execution_count": 28,
      "metadata": {
        "id": "WF9gGRjWXJgI"
      },
      "outputs": [],
      "source": [
        "# loop over all layers in the base model and freeze them so they will\n",
        "# *not* be updated during the first training process\n",
        "for layer in baseModel.layers:\n",
        "    layer.trainable = False"
      ]
    },
    {
      "cell_type": "code",
      "execution_count": null,
      "metadata": {
        "id": "kUhz_ovYXJgI"
      },
      "outputs": [],
      "source": [
        "# compile our model (this needs to be done after our setting our\n",
        "# layers to being non-trainable\n",
        "print(\"[INFO] compiling model...\")\n",
        "opt = SGD(learning_rate=1e-4, momentum=0.9)\n",
        "vgg_model.compile(loss=\"categorical_crossentropy\", optimizer=opt,\n",
        "              metrics=[\"accuracy\"])"
      ]
    },
    {
      "cell_type": "code",
      "execution_count": 30,
      "metadata": {
        "colab": {
          "base_uri": "https://localhost:8080/"
        },
        "id": "X3ZeII6bXJgK",
        "outputId": "c831a1f4-3e29-4732-fb83-7734367d46ad"
      },
      "outputs": [
        {
          "output_type": "stream",
          "name": "stdout",
          "text": [
            "[INFO] training head...\n",
            "Epoch 1/20\n",
            "38/38 [==============================] - 24s 581ms/step - loss: 4.9192 - accuracy: 0.7595 - val_loss: 0.3484 - val_accuracy: 0.9798\n",
            "Epoch 2/20\n",
            "38/38 [==============================] - 23s 613ms/step - loss: 1.6219 - accuracy: 0.9502 - val_loss: 0.1917 - val_accuracy: 0.9890\n",
            "Epoch 3/20\n",
            "38/38 [==============================] - 26s 692ms/step - loss: 0.6542 - accuracy: 0.9637 - val_loss: 0.2406 - val_accuracy: 0.9816\n",
            "Epoch 4/20\n",
            "38/38 [==============================] - 22s 573ms/step - loss: 0.3801 - accuracy: 0.9713 - val_loss: 0.1345 - val_accuracy: 0.9835\n",
            "Epoch 5/20\n",
            "38/38 [==============================] - 24s 636ms/step - loss: 0.2813 - accuracy: 0.9789 - val_loss: 0.1657 - val_accuracy: 0.9871\n",
            "Epoch 6/20\n",
            "38/38 [==============================] - 22s 579ms/step - loss: 0.2351 - accuracy: 0.9848 - val_loss: 0.1699 - val_accuracy: 0.9871\n",
            "Epoch 7/20\n",
            "38/38 [==============================] - 23s 598ms/step - loss: 0.1663 - accuracy: 0.9840 - val_loss: 0.1253 - val_accuracy: 0.9871\n",
            "Epoch 8/20\n",
            "38/38 [==============================] - 24s 620ms/step - loss: 0.2319 - accuracy: 0.9797 - val_loss: 0.0778 - val_accuracy: 0.9908\n",
            "Epoch 9/20\n",
            "38/38 [==============================] - 22s 582ms/step - loss: 0.1758 - accuracy: 0.9738 - val_loss: 0.0513 - val_accuracy: 0.9945\n",
            "Epoch 10/20\n",
            "38/38 [==============================] - 22s 580ms/step - loss: 0.0922 - accuracy: 0.9882 - val_loss: 0.0881 - val_accuracy: 0.9908\n",
            "Epoch 11/20\n",
            "38/38 [==============================] - 22s 581ms/step - loss: 0.1785 - accuracy: 0.9823 - val_loss: 0.0466 - val_accuracy: 0.9945\n",
            "Epoch 12/20\n",
            "38/38 [==============================] - 24s 620ms/step - loss: 0.2081 - accuracy: 0.9823 - val_loss: 0.0818 - val_accuracy: 0.9926\n",
            "Epoch 13/20\n",
            "38/38 [==============================] - 22s 584ms/step - loss: 0.0899 - accuracy: 0.9890 - val_loss: 0.0800 - val_accuracy: 0.9945\n",
            "Epoch 14/20\n",
            "38/38 [==============================] - 24s 631ms/step - loss: 0.1583 - accuracy: 0.9814 - val_loss: 0.1480 - val_accuracy: 0.9853\n",
            "Epoch 15/20\n",
            "38/38 [==============================] - 22s 583ms/step - loss: 0.0561 - accuracy: 0.9916 - val_loss: 0.0913 - val_accuracy: 0.9908\n",
            "Epoch 16/20\n",
            "38/38 [==============================] - 25s 654ms/step - loss: 0.0754 - accuracy: 0.9899 - val_loss: 0.0930 - val_accuracy: 0.9908\n",
            "Epoch 17/20\n",
            "38/38 [==============================] - 22s 572ms/step - loss: 0.0404 - accuracy: 0.9916 - val_loss: 0.1179 - val_accuracy: 0.9908\n",
            "Epoch 18/20\n",
            "38/38 [==============================] - 24s 629ms/step - loss: 0.0781 - accuracy: 0.9907 - val_loss: 0.1396 - val_accuracy: 0.9871\n",
            "Epoch 19/20\n",
            "38/38 [==============================] - 22s 578ms/step - loss: 0.0377 - accuracy: 0.9924 - val_loss: 0.0776 - val_accuracy: 0.9908\n",
            "Epoch 20/20\n",
            "38/38 [==============================] - 23s 585ms/step - loss: 0.1166 - accuracy: 0.9823 - val_loss: 0.1598 - val_accuracy: 0.9871\n",
            "[INFO] serializing network...\n"
          ]
        }
      ],
      "source": [
        "# train the head of the network for a few epochs (all other layers\n",
        "# are frozen) -- this will allow the new FC layers to start to become\n",
        "# initialized with actual \"learned\" values versus pure random\n",
        "print(\"[INFO] training head...\")\n",
        "H = vgg_model.fit(\n",
        "    x=trainGen,\n",
        "    steps_per_epoch=totalTrain // BATCH_SIZE,\n",
        "    validation_data=testGen,\n",
        "    validation_steps=totalTest // BATCH_SIZE,\n",
        "    epochs=20)\n",
        "\n",
        "print(\"[INFO] serializing network...\")\n",
        "vgg_model.save(\"vgg_model_20epochs.model\", save_format=\"h5\")"
      ]
    },
    {
      "cell_type": "code",
      "execution_count": 39,
      "metadata": {
        "colab": {
          "base_uri": "https://localhost:8080/"
        },
        "id": "aad6VEDnXJgK",
        "outputId": "a1df3c41-80d0-4e81-c84e-32c3957b7437"
      },
      "outputs": [
        {
          "output_type": "stream",
          "name": "stdout",
          "text": [
            "[INFO] evaluating after fine-tuning network head...\n",
            "18/18 [==============================] - 3s 127ms/step\n"
          ]
        }
      ],
      "source": [
        "# reset the testing generator and evaluate the network after\n",
        "# fine-tuning just the network head\n",
        "from tensorflow.keras.models import load_model\n",
        "vgg_model2 = load_model(\"vgg_model_20epochs.model\")\n",
        "\n",
        "print(\"[INFO] evaluating after fine-tuning network head...\")\n",
        "testGen.reset()\n",
        "predIdxs = vgg_model2.predict(x=testGen,\n",
        "    steps=(totalTest // BATCH_SIZE) + 1)\n",
        "predIdxs = np.argmax(predIdxs, axis=1)"
      ]
    },
    {
      "cell_type": "code",
      "execution_count": 33,
      "metadata": {
        "id": "KO0k3qdpXJgK"
      },
      "outputs": [],
      "source": [
        "def plot_acc(H, N, plotPath=None): # https://justpaste.it/6rhbd\n",
        "    # construct a plot that plots and saves the training history\n",
        "    plt.style.use(\"ggplot\")\n",
        "    plt.figure()\n",
        "    plt.plot(np.arange(0, N), H.history[\"accuracy\"], label=\"train_acc\")\n",
        "    plt.plot(np.arange(0, N), H.history[\"val_accuracy\"], label=\"val_acc\")\n",
        "    plt.title(\"Training Accuracy\")\n",
        "    plt.xlabel(\"Epoch #\")\n",
        "    plt.ylabel(\"Accuracy\")\n",
        "    plt.legend(loc=\"lower left\")\n",
        "    plt.savefig(\"acc_output.png\")\n",
        "\n",
        "def plot_loss(H, N, plotPath=None):\n",
        "    # construct a plot that plots and saves the training history\n",
        "    plt.style.use(\"ggplot\")\n",
        "    plt.figure()\n",
        "    plt.plot(np.arange(0, N), H.history[\"loss\"], label=\"train_loss\")\n",
        "    plt.plot(np.arange(0, N), H.history[\"val_loss\"], label=\"val_loss\")\n",
        "\n",
        "    plt.title(\"Training Loss\")\n",
        "    plt.xlabel(\"Epoch #\")\n",
        "    plt.ylabel(\"Loss\")\n",
        "    plt.legend(loc=\"lower left\")\n",
        "    plt.savefig(\"loss_output.png\")"
      ]
    },
    {
      "cell_type": "code",
      "execution_count": 40,
      "metadata": {
        "colab": {
          "base_uri": "https://localhost:8080/"
        },
        "id": "9ZVnBYGDXJgL",
        "outputId": "574ecee7-307a-4e24-afd8-d4dbe6f698ac"
      },
      "outputs": [
        {
          "output_type": "stream",
          "name": "stdout",
          "text": [
            "              precision    recall  f1-score   support\n",
            "\n",
            "   buildings       0.99      0.99      0.99       190\n",
            "      forest       0.96      1.00      0.98       182\n",
            "         sea       1.00      0.97      0.98       187\n",
            "\n",
            "    accuracy                           0.99       559\n",
            "   macro avg       0.99      0.99      0.99       559\n",
            "weighted avg       0.99      0.99      0.99       559\n",
            "\n"
          ]
        }
      ],
      "source": [
        "print(classification_report(testGen.classes, predIdxs,\n",
        "    target_names=testGen.class_indices.keys()))\n"
      ]
    },
    {
      "cell_type": "code",
      "execution_count": 41,
      "metadata": {
        "colab": {
          "base_uri": "https://localhost:8080/",
          "height": 477
        },
        "id": "lrsUgY2IXJgL",
        "outputId": "6af03e55-0fcd-48f1-bb28-1a8690363420"
      },
      "outputs": [
        {
          "output_type": "display_data",
          "data": {
            "text/plain": [
              "<Figure size 640x480 with 1 Axes>"
            ],
            "image/png": "[encoded data removed]"
          },
          "metadata": {}
        }
      ],
      "source": [
        "# plot training and val accuracy\n",
        "plot_acc(H, 20)"
      ]
    },
    {
      "cell_type": "code",
      "execution_count": 42,
      "metadata": {
        "colab": {
          "base_uri": "https://localhost:8080/",
          "height": 477
        },
        "id": "pjrg6ja3cVHk",
        "outputId": "35a8bcaa-df1a-4bc4-8cb4-a87f39d9ad75"
      },
      "outputs": [
        {
          "output_type": "display_data",
          "data": {
            "text/plain": [
              "<Figure size 640x480 with 1 Axes>"
            ],
            "image/png": "[encoded data removed]"
          },
          "metadata": {}
        }
      ],
      "source": [
        "# plot training and val loss\n",
        "plot_loss(H, 20)"
      ]
    },
    {
      "cell_type": "code",
      "execution_count": null,
      "metadata": {
        "colab": {
          "base_uri": "https://localhost:8080/"
        },
        "id": "xu5s4a4GXJgL",
        "outputId": "03dd7452-fe1b-46b3-e1bd-b8a3bd30fe3d"
      },
      "outputs": [
        {
          "name": "stdout",
          "output_type": "stream",
          "text": [
            "[INFO] serializing network...\n"
          ]
        }
      ],
      "source": [
        "# # serialize the# serialize the model to disk\n",
        "\n",
        "# print(\"[INFO] serializing network...\")\n",
        "# vgg_model2.save(\"vgg_model_50epochs.model\", save_format=\"h5\")"
      ]
    },
    {
      "cell_type": "markdown",
      "metadata": {
        "id": "0e05UO6eln8m"
      },
      "source": [
        "## Inference on Unseen Data"
      ]
    },
    {
      "cell_type": "code",
      "execution_count": 3,
      "metadata": {
        "id": "xkMEPpb7XJgM"
      },
      "outputs": [],
      "source": [
        "import imutils\n",
        "from tensorflow.keras.preprocessing.image import img_to_array\n",
        "from tensorflow.keras.models import load_model\n",
        "import numpy as np\n",
        "import argparse\n",
        "import imutils\n",
        "import cv2\n",
        "import matplotlib.pyplot as plt\n",
        "%matplotlib inline"
      ]
    },
    {
      "cell_type": "code",
      "execution_count": 2,
      "metadata": {
        "id": "mr6UghPThQon"
      },
      "outputs": [],
      "source": [
        "def display_img(img):\n",
        "    fig = plt.figure(figsize=(12,10))\n",
        "    # plt.grid(b=None)\n",
        "    ax = fig.add_subplot(111)\n",
        "    ax.imshow(img)"
      ]
    },
    {
      "cell_type": "code",
      "execution_count": 45,
      "metadata": {
        "colab": {
          "base_uri": "https://localhost:8080/"
        },
        "id": "E9t6zRW0xCPo",
        "outputId": "c5140bf9-719b-4eb3-c630-66e23ab78f79"
      },
      "outputs": [
        {
          "output_type": "stream",
          "name": "stdout",
          "text": [
            "acc_output.png\t\t\t\t test_examples.rar\t   vgg_model_20epochs.model\n",
            "loss_output.png\t\t\t\t vgg_dataset\t\t   vgg_model_50epochs.model\n",
            "Scene\\ Classification\\ using\\ VGG.ipynb  vgg_dataset.rar\t   vgg_model_5epochs.model\n",
            "test_examples\t\t\t\t vgg_model_10epochs.model\n"
          ]
        }
      ],
      "source": [
        "!dir"
      ]
    },
    {
      "cell_type": "code",
      "execution_count": null,
      "metadata": {
        "id": "nkoBW-VEhNJJ"
      },
      "outputs": [],
      "source": [
        "# import the necessary packages\n",
        "from tensorflow.keras.models import load_model\n",
        "import pickle\n",
        "import cv2\n",
        "\n",
        "# # load the model\n",
        "print(\"[INFO] loading network and...\")\n",
        "model = load_model(\"vgg_model_20epochs.model\")\n",
        "\n",
        "# grab the image paths and randomly shuffle themt\n",
        "testImagePaths = sorted(list(paths.list_images('test_examples')))   # data folder with 2 categorical folders\n",
        "\n",
        "\n",
        "# progress bar\n",
        "with tqdm(total=len(testImagePaths)) as pbar:\n",
        "\n",
        "    for imagePath in testImagePaths:\n",
        "\n",
        "        image = cv2.imread(imagePath)\n",
        "        output = image.copy()\n",
        "        output = imutils.resize(output, width=400)\n",
        "\n",
        "        # our model was trained on RGB ordered images but OpenCV represents\n",
        "        # images in BGR order, so swap the channels, and then resize to\n",
        "        # 224x224 (the input dimensions for VGG16)\n",
        "        image = cv2.cvtColor(image, cv2.COLOR_BGR2RGB)\n",
        "        image = cv2.resize(image, (224, 224))\n",
        "\n",
        "        # convert the image to a floating point data type and perform mean\n",
        "        # subtraction\n",
        "        image = image.astype(\"float32\")\n",
        "        mean = np.array([123.68, 116.779, 103.939][::-1], dtype=\"float32\")\n",
        "        image -= mean\n",
        "\n",
        "\n",
        "        # pass the image through the network to obtain our predictions\n",
        "        preds = model.predict(np.expand_dims(image, axis=0))[0]\n",
        "        i = np.argmax(preds)\n",
        "        label = CLASSES[i]\n",
        "\n",
        "        # draw the prediction on the output image\n",
        "        text = \"{}: {:.2f}%\".format(label, preds[i] * 100)\n",
        "        cv2.putText(output, text, (3, 20), cv2.FONT_HERSHEY_SIMPLEX, 0.5,\n",
        "            (0, 255, 0), 2)\n",
        "\n",
        "         # convert img to rgb format and display in notebook\n",
        "        img = cv2.cvtColor(output, cv2.COLOR_BGR2RGB)\n",
        "        display_img(img)\n",
        "\n",
        "        pbar.update(1)\n"
      ]
    },
    {
      "cell_type": "markdown",
      "metadata": {
        "id": "_NabQDkkmmVG"
      },
      "source": [
        "### Deployment"
      ]
    },
    {
      "cell_type": "code",
      "execution_count": null,
      "metadata": {
        "id": "4jsRTqjlXJgN"
      },
      "outputs": [],
      "source": [
        "# build gradio app\n",
        "!pip install gradio==3.47.1"
      ]
    },
    {
      "cell_type": "code",
      "source": [
        "import os\n",
        "os.chdir(\"/content/drive/MyDrive/Deep Learning Projects/4. Transfer Learning using VGG16\")"
      ],
      "metadata": {
        "id": "HY4kASQmvF9f"
      },
      "execution_count": 1,
      "outputs": []
    },
    {
      "cell_type": "code",
      "source": [
        "# # load the model\n",
        "print(\"[INFO] loading network and...\")\n",
        "model = load_model(\"vgg_model_20epochs.model\")"
      ],
      "metadata": {
        "colab": {
          "base_uri": "https://localhost:8080/"
        },
        "id": "_xLXPdBOuuN-",
        "outputId": "4f5f33d4-f874-4ae9-a07a-1798c2e5b1a5"
      },
      "execution_count": 4,
      "outputs": [
        {
          "output_type": "stream",
          "name": "stdout",
          "text": [
            "[INFO] loading network and...\n"
          ]
        }
      ]
    },
    {
      "cell_type": "code",
      "source": [
        "import gradio as gr\n",
        "print(gr.__version__)"
      ],
      "metadata": {
        "colab": {
          "base_uri": "https://localhost:8080/"
        },
        "id": "9ipSY7LXx8cC",
        "outputId": "42992ff8-8edc-47b1-b666-75c4553e452e"
      },
      "execution_count": 5,
      "outputs": [
        {
          "output_type": "stream",
          "name": "stdout",
          "text": [
            "3.47.1\n"
          ]
        }
      ]
    },
    {
      "cell_type": "code",
      "execution_count": 6,
      "metadata": {
        "id": "bra01sSunHrz"
      },
      "outputs": [],
      "source": [
        "import gradio as gr\n",
        "\n",
        "\n",
        "def predict_image(image):\n",
        "\n",
        "\n",
        "    image = cv2.cvtColor(image, cv2.COLOR_BGR2RGB)\n",
        "    image = cv2.resize(image, (224, 224))\n",
        "\n",
        "    # convert the image to a floating point data type and perform mean\n",
        "    # subtraction\n",
        "    image = image.astype(\"float32\")\n",
        "    mean = np.array([123.68, 116.779, 103.939][::-1], dtype=\"float32\")\n",
        "    image -= mean\n",
        "\n",
        "    # pass the image through the network to obtain our predictions\n",
        "    preds = model.predict(np.expand_dims(image, axis=0))[0]\n",
        "\n",
        "    result = dict()\n",
        "    result[\"Buildings\"] = round(float(list(preds)[0]), 3)\n",
        "    result[\"Forest\"] = round(float(list(preds)[1]), 3)\n",
        "    result[\"Sea\"] = round(float(list(preds)[2]), 3)\n",
        "\n",
        "    print(result)\n",
        "\n",
        "    return result\n",
        "\n",
        "\n",
        "\n",
        "# https://justpaste.it/7xo6s"
      ]
    },
    {
      "cell_type": "code",
      "source": [
        "# im = gr.Image(type=\"pil\")\n",
        "# label = gr.Label(num_top_classes=3)\n",
        "# gr.Interface(fn = predict_image, inputs=im, outputs=label, title=\"VGG DEMO\").launch(share=True,debug=True)"
      ],
      "metadata": {
        "id": "__bQPEMXxgun"
      },
      "execution_count": null,
      "outputs": []
    },
    {
      "cell_type": "code",
      "execution_count": 7,
      "metadata": {
        "colab": {
          "base_uri": "https://localhost:8080/",
          "height": 784
        },
        "id": "yhcTCVdTnSkd",
        "outputId": "002af36b-457b-4abd-9b2d-c6dc241424c1"
      },
      "outputs": [
        {
          "output_type": "stream",
          "name": "stderr",
          "text": [
            "<ipython-input-7-3d227d61410a>:1: GradioDeprecationWarning: Usage of gradio.inputs is deprecated, and will not be supported in the future, please import your component from gradio.components\n",
            "  im = gr.inputs.Image(shape=(224,224))\n",
            "<ipython-input-7-3d227d61410a>:1: GradioDeprecationWarning: `optional` parameter is deprecated, and it has no effect\n",
            "  im = gr.inputs.Image(shape=(224,224))\n",
            "<ipython-input-7-3d227d61410a>:2: GradioDeprecationWarning: Usage of gradio.outputs is deprecated, and will not be supported in the future, please import your components from gradio.components\n",
            "  label = gr.outputs.Label(num_top_classes=3)\n",
            "<ipython-input-7-3d227d61410a>:2: GradioUnusedKwargWarning: You have unused kwarg parameters in Label, please remove them: {'type': 'auto'}\n",
            "  label = gr.outputs.Label(num_top_classes=3)\n",
            "<ipython-input-7-3d227d61410a>:3: GradioDeprecationWarning: `capture_session` parameter is deprecated, and it has no effect\n",
            "  gr.Interface(fn = predict_image, inputs=im, outputs=label, capture_session=True, title=\"VGG DEMO\").launch(share=True)\n"
          ]
        },
        {
          "output_type": "stream",
          "name": "stdout",
          "text": [
            "Colab notebook detected. To show errors in colab notebook, set debug=True in launch()\n",
            "Running on public URL: https://3e73b524c0728b0cbe.gradio.live\n",
            "\n",
            "This share link expires in 72 hours. For free permanent hosting and GPU upgrades, run `gradio deploy` from Terminal to deploy to Spaces (https://huggingface.co/spaces)\n"
          ]
        },
        {
          "output_type": "display_data",
          "data": {
            "text/plain": [
              "<IPython.core.display.HTML object>"
            ],
            "text/html": [
              "<div><iframe src=\"https://3e73b524c0728b0cbe.gradio.live\" width=\"100%\" height=\"500\" allow=\"autoplay; camera; microphone; clipboard-read; clipboard-write;\" frameborder=\"0\" allowfullscreen></iframe></div>"
            ]
          },
          "metadata": {}
        },
        {
          "output_type": "execute_result",
          "data": {
            "text/plain": []
          },
          "metadata": {},
          "execution_count": 7
        }
      ],
      "source": [
        "im = gr.inputs.Image(shape=(224,224))\n",
        "label = gr.outputs.Label(num_top_classes=3)\n",
        "gr.Interface(fn = predict_image, inputs=im, outputs=label, capture_session=True, title=\"VGG DEMO\").launch(share=True)"
      ]
    },
    {
      "cell_type": "code",
      "execution_count": 11,
      "metadata": {
        "id": "CnFsAh0lnZ0L",
        "colab": {
          "base_uri": "https://localhost:8080/"
        },
        "outputId": "685169ae-95bb-44a3-a9d9-320a77b60416"
      },
      "outputs": [
        {
          "output_type": "execute_result",
          "data": {
            "text/plain": [
              "['Accordion',\n",
              " 'AnnotatedImage',\n",
              " 'Annotatedimage',\n",
              " 'Audio',\n",
              " 'BarPlot',\n",
              " 'Blocks',\n",
              " 'Button',\n",
              " 'CSVLogger',\n",
              " 'ChatInterface',\n",
              " 'Chatbot',\n",
              " 'Checkbox',\n",
              " 'CheckboxGroup',\n",
              " 'Checkboxgroup',\n",
              " 'ClearButton',\n",
              " 'Code',\n",
              " 'ColorPicker',\n",
              " 'Column',\n",
              " 'DataFrame',\n",
              " 'Dataframe',\n",
              " 'Dataset',\n",
              " 'Dropdown',\n",
              " 'DuplicateButton',\n",
              " 'Error',\n",
              " 'EventData',\n",
              " 'Examples',\n",
              " 'File',\n",
              " 'FileData',\n",
              " 'FileExplorer',\n",
              " 'Files',\n",
              " 'FlaggingCallback',\n",
              " 'Gallery',\n",
              " 'Group',\n",
              " 'HTML',\n",
              " 'Highlight',\n",
              " 'HighlightedText',\n",
              " 'Highlightedtext',\n",
              " 'HuggingFaceDatasetSaver',\n",
              " 'Image',\n",
              " 'Info',\n",
              " 'Interface',\n",
              " 'JSON',\n",
              " 'Json',\n",
              " 'Label',\n",
              " 'LikeData',\n",
              " 'LinePlot',\n",
              " 'List',\n",
              " 'LoginButton',\n",
              " 'LogoutButton',\n",
              " 'Markdown',\n",
              " 'Matrix',\n",
              " 'Mic',\n",
              " 'Microphone',\n",
              " 'Model3D',\n",
              " 'Number',\n",
              " 'Numpy',\n",
              " 'OAuthProfile',\n",
              " 'PlayableVideo',\n",
              " 'Plot',\n",
              " 'Progress',\n",
              " 'Radio',\n",
              " 'Request',\n",
              " 'Row',\n",
              " 'ScatterPlot',\n",
              " 'SelectData',\n",
              " 'SimpleCSVLogger',\n",
              " 'Slider',\n",
              " 'State',\n",
              " 'Tab',\n",
              " 'TabItem',\n",
              " 'TabbedInterface',\n",
              " 'Tabs',\n",
              " 'Text',\n",
              " 'TextArea',\n",
              " 'Textbox',\n",
              " 'Theme',\n",
              " 'UploadButton',\n",
              " 'Video',\n",
              " 'Warning',\n",
              " '__builtins__',\n",
              " '__cached__',\n",
              " '__doc__',\n",
              " '__file__',\n",
              " '__loader__',\n",
              " '__name__',\n",
              " '__package__',\n",
              " '__path__',\n",
              " '__spec__',\n",
              " '__version__',\n",
              " '_simple_templates',\n",
              " 'analytics',\n",
              " 'blocks',\n",
              " 'blocks_events',\n",
              " 'chat_interface',\n",
              " 'cli',\n",
              " 'close_all',\n",
              " 'component',\n",
              " 'component_meta',\n",
              " 'components',\n",
              " 'context',\n",
              " 'data_classes',\n",
              " 'deploy',\n",
              " 'events',\n",
              " 'exceptions',\n",
              " 'external',\n",
              " 'external_utils',\n",
              " 'flagging',\n",
              " 'get_package_version',\n",
              " 'gradio',\n",
              " 'helpers',\n",
              " 'image_utils',\n",
              " 'interface',\n",
              " 'ipython_ext',\n",
              " 'json',\n",
              " 'layouts',\n",
              " 'load',\n",
              " 'load_ipython_extension',\n",
              " 'make_waveform',\n",
              " 'mount_gradio_app',\n",
              " 'networking',\n",
              " 'oauth',\n",
              " 'on',\n",
              " 'pipelines',\n",
              " 'processing_utils',\n",
              " 'queueing',\n",
              " 'ranged_response',\n",
              " 'route_utils',\n",
              " 'routes',\n",
              " 'skip',\n",
              " 'state_holder',\n",
              " 'strings',\n",
              " 'templates',\n",
              " 'themes',\n",
              " 'tunneling',\n",
              " 'update',\n",
              " 'utils',\n",
              " 'wasm_utils']"
            ]
          },
          "metadata": {},
          "execution_count": 11
        }
      ],
      "source": [
        "dir(gr)"
      ]
    },
    {
      "cell_type": "code",
      "source": [],
      "metadata": {
        "id": "uM-2BRaEvkMC"
      },
      "execution_count": null,
      "outputs": []
    }
  ],
  "metadata": {
    "accelerator": "GPU",
    "colab": {
      "provenance": []
    },
    "gpuClass": "standard",
    "kernelspec": {
      "display_name": "Python 3",
      "language": "python",
      "name": "python3"
    },
    "language_info": {
      "codemirror_mode": {
        "name": "ipython",
        "version": 3
      },
      "file_extension": ".py",
      "mimetype": "text/x-python",
      "name": "python",
      "nbconvert_exporter": "python",
      "pygments_lexer": "ipython3",
      "version": "3.7.6"
    }
  },
  "nbformat": 4,
  "nbformat_minor": 0
}